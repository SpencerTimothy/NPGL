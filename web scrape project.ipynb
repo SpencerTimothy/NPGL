{
 "cells": [
  {
   "cell_type": "code",
   "execution_count": 184,
   "metadata": {
    "collapsed": true
   },
   "outputs": [],
   "source": [
    "from bs4 import BeautifulSoup\n",
    "import urllib2\n",
    "import requests\n",
    "from pandas import Series,DataFrame\n",
    "import numpy as np"
   ]
  },
  {
   "cell_type": "code",
   "execution_count": 185,
   "metadata": {
    "collapsed": true
   },
   "outputs": [],
   "source": [
    "url = \"https://en.wikipedia.org/wiki/National_Pro_Grid_League\""
   ]
  },
  {
   "cell_type": "code",
   "execution_count": 186,
   "metadata": {
    "collapsed": false
   },
   "outputs": [],
   "source": [
    "r = requests.get(url)"
   ]
  },
  {
   "cell_type": "code",
   "execution_count": 187,
   "metadata": {
    "collapsed": false
   },
   "outputs": [],
   "source": [
    "soup = BeautifulSoup(r.content)"
   ]
  },
  {
   "cell_type": "code",
   "execution_count": 188,
   "metadata": {
    "collapsed": false
   },
   "outputs": [],
   "source": [
    "heading = soup.find(id='Active_teams')"
   ]
  },
  {
   "cell_type": "code",
   "execution_count": 189,
   "metadata": {
    "collapsed": false
   },
   "outputs": [
    {
     "name": "stdout",
     "output_type": "stream",
     "text": [
      "\n",
      "\n",
      "Baltimore Anthem (2015–present)\n",
      "\n",
      "\n",
      "Boston Iron (2014–present)\n",
      "\n",
      "\n",
      "DC Brawlers (2014–present)\n",
      "\n",
      "\n",
      "Los Angeles Reign (2014–present)\n",
      "\n",
      "\n",
      "Miami Surge (2014–present)\n",
      "\n",
      "\n",
      "New York Rhinos (2014–present)\n",
      "\n",
      "\n",
      "Phoenix Rise (2014–present)\n",
      "\n",
      "\n",
      "San Francisco Fire (2014–present)\n",
      "\n",
      "\n"
     ]
    },
    {
     "data": {
      "text/plain": [
       "<ul>\\n<li>Baltimore Anthem (2015\\u2013present)</li>\\n<li>Boston Iron (2014\\u2013present)</li>\\n<li>DC Brawlers (2014\\u2013present)</li>\\n<li>Los Angeles Reign (2014\\u2013present)</li>\\n<li>Miami Surge (2014\\u2013present)</li>\\n<li>New York Rhinos (2014\\u2013present)</li>\\n<li>Phoenix Rise (2014\\u2013present)</li>\\n<li>San Francisco Fire (2014\\u2013present)</li>\\n</ul>"
      ]
     },
     "execution_count": 189,
     "metadata": {},
     "output_type": "execute_result"
    }
   ],
   "source": [
    "teams = heading.find_next('ul')\n",
    "for team in teams:\n",
    "    print team.string\n",
    "\n",
    "teams"
   ]
  },
  {
   "cell_type": "code",
   "execution_count": 250,
   "metadata": {
    "collapsed": false
   },
   "outputs": [],
   "source": [
    "rows = teams.findAll('li')\n"
   ]
  },
  {
   "cell_type": "code",
   "execution_count": 251,
   "metadata": {
    "collapsed": false
   },
   "outputs": [
    {
     "name": "stdout",
     "output_type": "stream",
     "text": [
      "Baltimore Anthem (2015–present) Boston Iron (2014–present) DC Brawlers (2014–present) Los Angeles Reign (2014–present) Miami Surge (2014–present) New York Rhinos (2014–present) Phoenix Rise (2014–present) San Francisco Fire (2014–present)\n"
     ]
    }
   ],
   "source": [
    "data = []\n",
    "for li in rows:\n",
    "    text = li.find(text=True)\n",
    "    print text,\n",
    "    data.append(text)"
   ]
  },
  {
   "cell_type": "code",
   "execution_count": 298,
   "metadata": {
    "collapsed": false
   },
   "outputs": [],
   "source": [
    "dframe = DataFrame(data,columns=['Active NPGL Teams'],index=[1,2,3,4,5,6,7,8])"
   ]
  },
  {
   "cell_type": "code",
   "execution_count": 299,
   "metadata": {
    "collapsed": false
   },
   "outputs": [
    {
     "data": {
      "text/html": [
       "<div>\n",
       "<table border=\"1\" class=\"dataframe\">\n",
       "  <thead>\n",
       "    <tr style=\"text-align: right;\">\n",
       "      <th></th>\n",
       "      <th>Active NPGL Teams</th>\n",
       "    </tr>\n",
       "  </thead>\n",
       "  <tbody>\n",
       "    <tr>\n",
       "      <th>1</th>\n",
       "      <td>Baltimore Anthem (2015–present)</td>\n",
       "    </tr>\n",
       "    <tr>\n",
       "      <th>2</th>\n",
       "      <td>Boston Iron (2014–present)</td>\n",
       "    </tr>\n",
       "    <tr>\n",
       "      <th>3</th>\n",
       "      <td>DC Brawlers (2014–present)</td>\n",
       "    </tr>\n",
       "    <tr>\n",
       "      <th>4</th>\n",
       "      <td>Los Angeles Reign (2014–present)</td>\n",
       "    </tr>\n",
       "    <tr>\n",
       "      <th>5</th>\n",
       "      <td>Miami Surge (2014–present)</td>\n",
       "    </tr>\n",
       "    <tr>\n",
       "      <th>6</th>\n",
       "      <td>New York Rhinos (2014–present)</td>\n",
       "    </tr>\n",
       "    <tr>\n",
       "      <th>7</th>\n",
       "      <td>Phoenix Rise (2014–present)</td>\n",
       "    </tr>\n",
       "    <tr>\n",
       "      <th>8</th>\n",
       "      <td>San Francisco Fire (2014–present)</td>\n",
       "    </tr>\n",
       "  </tbody>\n",
       "</table>\n",
       "</div>"
      ],
      "text/plain": [
       "                   Active NPGL Teams\n",
       "1    Baltimore Anthem (2015–present)\n",
       "2         Boston Iron (2014–present)\n",
       "3         DC Brawlers (2014–present)\n",
       "4   Los Angeles Reign (2014–present)\n",
       "5         Miami Surge (2014–present)\n",
       "6     New York Rhinos (2014–present)\n",
       "7        Phoenix Rise (2014–present)\n",
       "8  San Francisco Fire (2014–present)"
      ]
     },
     "execution_count": 299,
     "metadata": {},
     "output_type": "execute_result"
    }
   ],
   "source": [
    "dframe"
   ]
  },
  {
   "cell_type": "code",
   "execution_count": 311,
   "metadata": {
    "collapsed": false
   },
   "outputs": [],
   "source": [
    "dframe1 = dframe['Active NPGL Teams'].str.split(r' (?=\\()',expand=True)"
   ]
  },
  {
   "cell_type": "code",
   "execution_count": 316,
   "metadata": {
    "collapsed": false
   },
   "outputs": [],
   "source": [
    "dframe1.columns = ['Active NPGL Teams','Years Active']"
   ]
  },
  {
   "cell_type": "code",
   "execution_count": 317,
   "metadata": {
    "collapsed": false
   },
   "outputs": [
    {
     "data": {
      "text/html": [
       "<div>\n",
       "<table border=\"1\" class=\"dataframe\">\n",
       "  <thead>\n",
       "    <tr style=\"text-align: right;\">\n",
       "      <th></th>\n",
       "      <th>Active NPGL Teams</th>\n",
       "      <th>Years Active</th>\n",
       "    </tr>\n",
       "  </thead>\n",
       "  <tbody>\n",
       "    <tr>\n",
       "      <th>1</th>\n",
       "      <td>Baltimore Anthem</td>\n",
       "      <td>(2015–present)</td>\n",
       "    </tr>\n",
       "    <tr>\n",
       "      <th>2</th>\n",
       "      <td>Boston Iron</td>\n",
       "      <td>(2014–present)</td>\n",
       "    </tr>\n",
       "    <tr>\n",
       "      <th>3</th>\n",
       "      <td>DC Brawlers</td>\n",
       "      <td>(2014–present)</td>\n",
       "    </tr>\n",
       "    <tr>\n",
       "      <th>4</th>\n",
       "      <td>Los Angeles Reign</td>\n",
       "      <td>(2014–present)</td>\n",
       "    </tr>\n",
       "    <tr>\n",
       "      <th>5</th>\n",
       "      <td>Miami Surge</td>\n",
       "      <td>(2014–present)</td>\n",
       "    </tr>\n",
       "    <tr>\n",
       "      <th>6</th>\n",
       "      <td>New York Rhinos</td>\n",
       "      <td>(2014–present)</td>\n",
       "    </tr>\n",
       "    <tr>\n",
       "      <th>7</th>\n",
       "      <td>Phoenix Rise</td>\n",
       "      <td>(2014–present)</td>\n",
       "    </tr>\n",
       "    <tr>\n",
       "      <th>8</th>\n",
       "      <td>San Francisco Fire</td>\n",
       "      <td>(2014–present)</td>\n",
       "    </tr>\n",
       "  </tbody>\n",
       "</table>\n",
       "</div>"
      ],
      "text/plain": [
       "    Active NPGL Teams    Years Active\n",
       "1    Baltimore Anthem  (2015–present)\n",
       "2         Boston Iron  (2014–present)\n",
       "3         DC Brawlers  (2014–present)\n",
       "4   Los Angeles Reign  (2014–present)\n",
       "5         Miami Surge  (2014–present)\n",
       "6     New York Rhinos  (2014–present)\n",
       "7        Phoenix Rise  (2014–present)\n",
       "8  San Francisco Fire  (2014–present)"
      ]
     },
     "execution_count": 317,
     "metadata": {},
     "output_type": "execute_result"
    }
   ],
   "source": [
    "dframe1"
   ]
  },
  {
   "cell_type": "code",
   "execution_count": 312,
   "metadata": {
    "collapsed": false
   },
   "outputs": [],
   "source": []
  },
  {
   "cell_type": "code",
   "execution_count": null,
   "metadata": {
    "collapsed": true
   },
   "outputs": [],
   "source": []
  }
 ],
 "metadata": {
  "anaconda-cloud": {},
  "kernelspec": {
   "display_name": "Python [Root]",
   "language": "python",
   "name": "Python [Root]"
  },
  "language_info": {
   "codemirror_mode": {
    "name": "ipython",
    "version": 2
   },
   "file_extension": ".py",
   "mimetype": "text/x-python",
   "name": "python",
   "nbconvert_exporter": "python",
   "pygments_lexer": "ipython2",
   "version": "2.7.12"
  }
 },
 "nbformat": 4,
 "nbformat_minor": 0
}
